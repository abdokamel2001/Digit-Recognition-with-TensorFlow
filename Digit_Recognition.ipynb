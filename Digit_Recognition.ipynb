{
  "cells": [
    {
      "cell_type": "markdown",
      "metadata": {
        "id": "NAYqCP2Cr26N"
      },
      "source": [
        "# Prepare The Files"
      ]
    },
    {
      "cell_type": "code",
      "execution_count": null,
      "metadata": {
        "id": "fJqYm5h5r2If"
      },
      "outputs": [],
      "source": [
        "!unzip -q '/content/drive/MyDrive/Graduation/AI Team/Tasks/2023-09-Sprint2/Digit_Recognition.zip' -d '/content/'"
      ]
    },
    {
      "cell_type": "markdown",
      "metadata": {
        "id": "ZJRZgsjmsRMp"
      },
      "source": [
        "# Load The Libraries"
      ]
    },
    {
      "cell_type": "code",
      "execution_count": null,
      "metadata": {
        "id": "od3PBlz1imAp"
      },
      "outputs": [],
      "source": [
        "import os\n",
        "import json\n",
        "import numpy as np\n",
        "from PIL import Image\n",
        "import tensorflow as tf\n",
        "import matplotlib.pyplot as plt\n",
        "from IPython.display import clear_output"
      ]
    },
    {
      "cell_type": "markdown",
      "metadata": {
        "id": "avE_JZb5scn5"
      },
      "source": [
        "---------"
      ]
    },
    {
      "cell_type": "markdown",
      "metadata": {
        "id": "8Bt4cdNv_g2T"
      },
      "source": [
        "# Load The Data"
      ]
    },
    {
      "cell_type": "code",
      "execution_count": null,
      "metadata": {
        "colab": {
          "base_uri": "https://localhost:8080/"
        },
        "id": "D7bbX0U2SW1c",
        "outputId": "787f47cd-9ec5-471a-abc1-7e6f2d20be95"
      },
      "outputs": [
        {
          "output_type": "stream",
          "name": "stdout",
          "text": [
            "Loading Complete\n"
          ]
        }
      ],
      "source": [
        "with open('/content/labels.json', 'r') as f:\n",
        "    data = json.load(f)\n",
        "\n",
        "labels = data['labels']\n",
        "image_dir = '/content/Data/'\n",
        "\n",
        "images = []\n",
        "image_labels = []\n",
        "progress = 0\n",
        "\n",
        "for label_data in labels:\n",
        "  filename = os.path.join(image_dir, label_data['filename'])\n",
        "  label = label_data['label']\n",
        "\n",
        "  image = Image.open(filename)\n",
        "  image_array = np.array(image).flatten()\n",
        "\n",
        "  images.append(image_array)\n",
        "  image_labels.append(label)\n",
        "\n",
        "  progress += 1\n",
        "  if progress % 100 == 0:\n",
        "    print(f'Progress: {progress} / 8000')\n",
        "\n",
        "images = np.array(images, dtype=np.float64)\n",
        "image_labels = np.array(image_labels)\n",
        "\n",
        "clear_output()\n",
        "print('Loading Complete')"
      ]
    },
    {
      "cell_type": "code",
      "source": [],
      "metadata": {
        "id": "7HCJSGPXil1k"
      },
      "execution_count": null,
      "outputs": []
    },
    {
      "cell_type": "code",
      "execution_count": null,
      "metadata": {
        "id": "sJnbHZZc8mxd"
      },
      "outputs": [],
      "source": [
        "image_labels = image_labels.reshape((8000, 1))\n",
        "images /= 255"
      ]
    },
    {
      "cell_type": "code",
      "execution_count": null,
      "metadata": {
        "colab": {
          "base_uri": "https://localhost:8080/"
        },
        "id": "0MtI5nQg7EQC",
        "outputId": "ee14ec82-446f-4a8f-ffd6-4b5cb72629cd"
      },
      "outputs": [
        {
          "output_type": "stream",
          "name": "stdout",
          "text": [
            "(8000, 784) float64\n",
            "(8000, 1) int64\n"
          ]
        }
      ],
      "source": [
        "print(images.shape, images.dtype)\n",
        "print(image_labels.shape, image_labels.dtype)"
      ]
    },
    {
      "cell_type": "code",
      "execution_count": null,
      "metadata": {
        "colab": {
          "base_uri": "https://localhost:8080/",
          "height": 447
        },
        "id": "vL1Z5WMiDMoq",
        "outputId": "bc219448-ef4c-45cb-a8dc-ca9a3db4b7b6"
      },
      "outputs": [
        {
          "output_type": "stream",
          "name": "stdout",
          "text": [
            "[9]\n"
          ]
        },
        {
          "output_type": "display_data",
          "data": {
            "text/plain": [
              "<Figure size 640x480 with 1 Axes>"
            ],
            "image/png": "[encoded data removed]"
          },
          "metadata": {}
        }
      ],
      "source": [
        "plt.imshow(images[12].reshape(28, 28) * 255, cmap='gray')\n",
        "print(image_labels[12])"
      ]
    },
    {
      "cell_type": "markdown",
      "metadata": {
        "id": "950hgB0RAVrz"
      },
      "source": [
        "---------------"
      ]
    },
    {
      "cell_type": "markdown",
      "metadata": {
        "id": "y4TK473zAXfG"
      },
      "source": [
        "# Divide The Data"
      ]
    },
    {
      "cell_type": "code",
      "execution_count": null,
      "metadata": {
        "colab": {
          "base_uri": "https://localhost:8080/"
        },
        "id": "-3x94bL7_cXO",
        "outputId": "5c92680e-0002-415b-e9f9-2343af13bd46"
      },
      "outputs": [
        {
          "output_type": "stream",
          "name": "stdout",
          "text": [
            "Train: (4800, 784), (4800, 1)\n",
            "Eval: (1600, 784), (1600, 1)\n",
            "Test: (1600, 784), (1600, 1)\n"
          ]
        }
      ],
      "source": [
        "train_ratio = 0.6\n",
        "eval_ratio = 0.2\n",
        "test_ratio = 0.2\n",
        "\n",
        "#permutate indexes\n",
        "sh_index = np.random.permutation(image_labels.shape[0])\n",
        "images = images[sh_index, :]\n",
        "image_labels = image_labels[sh_index, :]\n",
        "\n",
        "# train data\n",
        "train_size = int(train_ratio * images.shape[0])\n",
        "train_images = images[:train_size]\n",
        "train_labels = image_labels[:train_size]\n",
        "\n",
        "# eval data\n",
        "eval_size = int(eval_ratio * images.shape[0])\n",
        "eval_images = images[train_size:train_size + eval_size]\n",
        "eval_labels = image_labels[train_size:train_size + eval_size]\n",
        "\n",
        "# test data\n",
        "test_images = images[train_size + eval_size:]\n",
        "test_labels = image_labels[train_size + eval_size:]\n",
        "\n",
        "print(f'Train: {train_images.shape}, {train_labels.shape}')\n",
        "print(f'Eval: {eval_images.shape}, {eval_labels.shape}')\n",
        "print(f'Test: {test_images.shape}, {test_labels.shape}')"
      ]
    },
    {
      "cell_type": "markdown",
      "metadata": {
        "id": "ZzSLcIYZGm_Y"
      },
      "source": [
        "--------------"
      ]
    },
    {
      "cell_type": "markdown",
      "metadata": {
        "id": "gY-BqhcIGo-Z"
      },
      "source": [
        "# Build The Model"
      ]
    },
    {
      "cell_type": "code",
      "source": [
        "tf.keras.backend.clear_session()"
      ],
      "metadata": {
        "id": "lCM9ylNjryEp"
      },
      "execution_count": null,
      "outputs": []
    },
    {
      "cell_type": "code",
      "execution_count": null,
      "metadata": {
        "colab": {
          "base_uri": "https://localhost:8080/"
        },
        "id": "AXtyQkCHGmtR",
        "outputId": "d74e60f0-6b5e-4478-af43-87139929f6a7"
      },
      "outputs": [
        {
          "output_type": "stream",
          "name": "stdout",
          "text": [
            "Model: \"sequential\"\n",
            "_________________________________________________________________\n",
            " Layer (type)                Output Shape              Param #   \n",
            "=================================================================\n",
            " flatten (Flatten)           (None, 784)               0         \n",
            "                                                                 \n",
            " dense (Dense)               (None, 128)               100480    \n",
            "                                                                 \n",
            " batch_normalization (Batch  (None, 128)               512       \n",
            " Normalization)                                                  \n",
            "                                                                 \n",
            " dropout (Dropout)           (None, 128)               0         \n",
            "                                                                 \n",
            " dense_1 (Dense)             (None, 64)                8256      \n",
            "                                                                 \n",
            " batch_normalization_1 (Bat  (None, 64)                256       \n",
            " chNormalization)                                                \n",
            "                                                                 \n",
            " dropout_1 (Dropout)         (None, 64)                0         \n",
            "                                                                 \n",
            " dense_2 (Dense)             (None, 10)                650       \n",
            "                                                                 \n",
            "=================================================================\n",
            "Total params: 110154 (430.29 KB)\n",
            "Trainable params: 109770 (428.79 KB)\n",
            "Non-trainable params: 384 (1.50 KB)\n",
            "_________________________________________________________________\n"
          ]
        }
      ],
      "source": [
        "model = tf.keras.Sequential([\n",
        "  tf.keras.layers.Flatten(input_shape=(784,)),\n",
        "  tf.keras.layers.Dense(128, activation='relu'),\n",
        "  tf.keras.layers.BatchNormalization(),\n",
        "  tf.keras.layers.Dropout(0.3),\n",
        "  tf.keras.layers.Dense(64, activation='relu'),\n",
        "  tf.keras.layers.BatchNormalization(),\n",
        "  tf.keras.layers.Dropout(0.3),\n",
        "  tf.keras.layers.Dense(10, activation='softmax')\n",
        "])\n",
        "\n",
        "model.compile(\n",
        "  optimizer='adam',\n",
        "  loss='sparse_categorical_crossentropy',\n",
        "  metrics=['accuracy']\n",
        ")\n",
        "\n",
        "model.summary()"
      ]
    },
    {
      "cell_type": "markdown",
      "metadata": {
        "id": "PEc1zt2LUH24"
      },
      "source": [
        "# Test The Model"
      ]
    },
    {
      "cell_type": "code",
      "execution_count": null,
      "metadata": {
        "colab": {
          "base_uri": "https://localhost:8080/"
        },
        "id": "bwvZN9gPHskj",
        "outputId": "38d0a822-7284-4b69-ed0f-d904e8b41d28"
      },
      "outputs": [
        {
          "output_type": "stream",
          "name": "stdout",
          "text": [
            "Epoch 1/200\n",
            "150/150 [==============================] - 2s 6ms/step - loss: 1.0699 - accuracy: 0.6585 - val_loss: 0.6706 - val_accuracy: 0.8519\n",
            "Epoch 2/200\n",
            "150/150 [==============================] - 1s 5ms/step - loss: 0.5406 - accuracy: 0.8350 - val_loss: 0.3129 - val_accuracy: 0.9194\n",
            "Epoch 3/200\n",
            "150/150 [==============================] - 1s 6ms/step - loss: 0.4196 - accuracy: 0.8750 - val_loss: 0.2577 - val_accuracy: 0.9294\n",
            "Epoch 4/200\n",
            "150/150 [==============================] - 0s 3ms/step - loss: 0.3442 - accuracy: 0.8915 - val_loss: 0.2393 - val_accuracy: 0.9369\n",
            "Epoch 5/200\n",
            "150/150 [==============================] - 0s 3ms/step - loss: 0.2921 - accuracy: 0.9069 - val_loss: 0.2531 - val_accuracy: 0.9287\n",
            "Epoch 6/200\n",
            "150/150 [==============================] - 0s 3ms/step - loss: 0.2668 - accuracy: 0.9158 - val_loss: 0.2260 - val_accuracy: 0.9325\n",
            "Epoch 7/200\n",
            "150/150 [==============================] - 1s 3ms/step - loss: 0.2242 - accuracy: 0.9302 - val_loss: 0.2099 - val_accuracy: 0.9369\n",
            "Epoch 8/200\n",
            "150/150 [==============================] - 0s 3ms/step - loss: 0.2101 - accuracy: 0.9340 - val_loss: 0.2267 - val_accuracy: 0.9319\n",
            "Epoch 9/200\n",
            "150/150 [==============================] - 0s 3ms/step - loss: 0.2039 - accuracy: 0.9367 - val_loss: 0.2209 - val_accuracy: 0.9394\n",
            "Epoch 10/200\n",
            "150/150 [==============================] - 0s 3ms/step - loss: 0.1847 - accuracy: 0.9421 - val_loss: 0.1975 - val_accuracy: 0.9463\n",
            "Epoch 11/200\n",
            "150/150 [==============================] - 0s 3ms/step - loss: 0.1761 - accuracy: 0.9456 - val_loss: 0.2076 - val_accuracy: 0.9450\n",
            "Epoch 12/200\n",
            "150/150 [==============================] - 0s 3ms/step - loss: 0.1683 - accuracy: 0.9454 - val_loss: 0.1968 - val_accuracy: 0.9475\n",
            "Epoch 13/200\n",
            "150/150 [==============================] - 0s 3ms/step - loss: 0.1597 - accuracy: 0.9492 - val_loss: 0.1872 - val_accuracy: 0.9475\n",
            "Epoch 14/200\n",
            "150/150 [==============================] - 0s 3ms/step - loss: 0.1478 - accuracy: 0.9479 - val_loss: 0.2185 - val_accuracy: 0.9388\n",
            "Epoch 15/200\n",
            "150/150 [==============================] - 0s 3ms/step - loss: 0.1321 - accuracy: 0.9577 - val_loss: 0.1922 - val_accuracy: 0.9544\n",
            "Epoch 16/200\n",
            "150/150 [==============================] - 0s 3ms/step - loss: 0.1261 - accuracy: 0.9573 - val_loss: 0.2030 - val_accuracy: 0.9500\n",
            "Epoch 17/200\n",
            "150/150 [==============================] - 0s 3ms/step - loss: 0.1243 - accuracy: 0.9550 - val_loss: 0.2311 - val_accuracy: 0.9419\n",
            "Epoch 18/200\n",
            "150/150 [==============================] - 0s 3ms/step - loss: 0.1177 - accuracy: 0.9623 - val_loss: 0.1939 - val_accuracy: 0.9475\n",
            "Epoch 19/200\n",
            "150/150 [==============================] - 0s 3ms/step - loss: 0.1207 - accuracy: 0.9598 - val_loss: 0.1982 - val_accuracy: 0.9463\n",
            "Epoch 20/200\n",
            "150/150 [==============================] - 0s 3ms/step - loss: 0.1015 - accuracy: 0.9650 - val_loss: 0.1886 - val_accuracy: 0.9569\n",
            "Epoch 21/200\n",
            "150/150 [==============================] - 0s 3ms/step - loss: 0.0934 - accuracy: 0.9692 - val_loss: 0.1692 - val_accuracy: 0.9569\n",
            "Epoch 22/200\n",
            "150/150 [==============================] - 0s 3ms/step - loss: 0.0944 - accuracy: 0.9683 - val_loss: 0.1713 - val_accuracy: 0.9563\n",
            "Epoch 23/200\n",
            "150/150 [==============================] - 0s 3ms/step - loss: 0.0894 - accuracy: 0.9700 - val_loss: 0.2048 - val_accuracy: 0.9469\n",
            "Epoch 24/200\n",
            "150/150 [==============================] - 1s 3ms/step - loss: 0.1077 - accuracy: 0.9613 - val_loss: 0.1556 - val_accuracy: 0.9625\n",
            "Epoch 25/200\n",
            "150/150 [==============================] - 1s 5ms/step - loss: 0.0953 - accuracy: 0.9681 - val_loss: 0.1849 - val_accuracy: 0.9531\n",
            "Epoch 26/200\n",
            "150/150 [==============================] - 1s 4ms/step - loss: 0.0829 - accuracy: 0.9733 - val_loss: 0.1973 - val_accuracy: 0.9506\n",
            "Epoch 27/200\n",
            "150/150 [==============================] - 1s 5ms/step - loss: 0.1011 - accuracy: 0.9640 - val_loss: 0.2168 - val_accuracy: 0.9488\n",
            "Epoch 28/200\n",
            "150/150 [==============================] - 1s 5ms/step - loss: 0.0867 - accuracy: 0.9715 - val_loss: 0.1896 - val_accuracy: 0.9506\n",
            "Epoch 29/200\n",
            "150/150 [==============================] - 0s 3ms/step - loss: 0.0852 - accuracy: 0.9725 - val_loss: 0.1918 - val_accuracy: 0.9488\n",
            "Epoch 30/200\n",
            "150/150 [==============================] - 0s 3ms/step - loss: 0.0838 - accuracy: 0.9700 - val_loss: 0.1974 - val_accuracy: 0.9513\n",
            "Epoch 31/200\n",
            "150/150 [==============================] - 0s 3ms/step - loss: 0.0825 - accuracy: 0.9719 - val_loss: 0.1724 - val_accuracy: 0.9600\n",
            "Epoch 32/200\n",
            "150/150 [==============================] - 0s 3ms/step - loss: 0.0862 - accuracy: 0.9717 - val_loss: 0.1734 - val_accuracy: 0.9563\n",
            "Epoch 33/200\n",
            "150/150 [==============================] - 0s 3ms/step - loss: 0.0856 - accuracy: 0.9729 - val_loss: 0.1945 - val_accuracy: 0.9525\n",
            "Epoch 34/200\n",
            "150/150 [==============================] - 0s 3ms/step - loss: 0.0738 - accuracy: 0.9775 - val_loss: 0.1544 - val_accuracy: 0.9625\n",
            "Epoch 35/200\n",
            "150/150 [==============================] - 0s 3ms/step - loss: 0.0823 - accuracy: 0.9721 - val_loss: 0.1885 - val_accuracy: 0.9563\n",
            "Epoch 36/200\n",
            "150/150 [==============================] - 0s 3ms/step - loss: 0.0841 - accuracy: 0.9694 - val_loss: 0.1768 - val_accuracy: 0.9569\n",
            "Epoch 37/200\n",
            "150/150 [==============================] - 1s 3ms/step - loss: 0.0801 - accuracy: 0.9729 - val_loss: 0.2019 - val_accuracy: 0.9506\n",
            "Epoch 38/200\n",
            "150/150 [==============================] - 0s 3ms/step - loss: 0.0738 - accuracy: 0.9760 - val_loss: 0.1889 - val_accuracy: 0.9531\n",
            "Epoch 39/200\n",
            "150/150 [==============================] - 0s 3ms/step - loss: 0.0621 - accuracy: 0.9792 - val_loss: 0.1846 - val_accuracy: 0.9581\n",
            "Epoch 40/200\n",
            "150/150 [==============================] - 0s 3ms/step - loss: 0.0676 - accuracy: 0.9762 - val_loss: 0.1668 - val_accuracy: 0.9613\n",
            "Epoch 41/200\n",
            "150/150 [==============================] - 1s 3ms/step - loss: 0.0701 - accuracy: 0.9762 - val_loss: 0.1694 - val_accuracy: 0.9638\n",
            "Epoch 42/200\n",
            "150/150 [==============================] - 0s 3ms/step - loss: 0.0626 - accuracy: 0.9760 - val_loss: 0.1759 - val_accuracy: 0.9656\n",
            "Epoch 43/200\n",
            "150/150 [==============================] - 0s 3ms/step - loss: 0.0635 - accuracy: 0.9769 - val_loss: 0.1756 - val_accuracy: 0.9650\n",
            "Epoch 44/200\n",
            "150/150 [==============================] - 0s 3ms/step - loss: 0.0602 - accuracy: 0.9798 - val_loss: 0.1783 - val_accuracy: 0.9625\n",
            "Epoch 45/200\n",
            "150/150 [==============================] - 0s 3ms/step - loss: 0.0561 - accuracy: 0.9794 - val_loss: 0.2315 - val_accuracy: 0.9569\n",
            "Epoch 46/200\n",
            "150/150 [==============================] - 0s 3ms/step - loss: 0.0645 - accuracy: 0.9773 - val_loss: 0.1998 - val_accuracy: 0.9619\n",
            "Epoch 47/200\n",
            "150/150 [==============================] - 0s 3ms/step - loss: 0.0668 - accuracy: 0.9756 - val_loss: 0.2038 - val_accuracy: 0.9550\n",
            "Epoch 48/200\n",
            "150/150 [==============================] - 0s 3ms/step - loss: 0.0748 - accuracy: 0.9752 - val_loss: 0.1898 - val_accuracy: 0.9600\n",
            "Epoch 49/200\n",
            "150/150 [==============================] - 0s 3ms/step - loss: 0.0560 - accuracy: 0.9796 - val_loss: 0.1994 - val_accuracy: 0.9581\n",
            "Epoch 50/200\n",
            "150/150 [==============================] - 1s 5ms/step - loss: 0.0546 - accuracy: 0.9804 - val_loss: 0.2022 - val_accuracy: 0.9606\n",
            "Epoch 51/200\n",
            "150/150 [==============================] - 1s 5ms/step - loss: 0.0592 - accuracy: 0.9812 - val_loss: 0.2041 - val_accuracy: 0.9594\n",
            "Epoch 52/200\n",
            "150/150 [==============================] - 1s 4ms/step - loss: 0.0546 - accuracy: 0.9829 - val_loss: 0.1863 - val_accuracy: 0.9613\n",
            "Epoch 53/200\n",
            "150/150 [==============================] - 1s 5ms/step - loss: 0.0675 - accuracy: 0.9779 - val_loss: 0.1777 - val_accuracy: 0.9606\n",
            "Epoch 54/200\n",
            "150/150 [==============================] - 1s 3ms/step - loss: 0.0547 - accuracy: 0.9833 - val_loss: 0.1712 - val_accuracy: 0.9644\n",
            "Epoch 55/200\n",
            "150/150 [==============================] - 0s 3ms/step - loss: 0.0449 - accuracy: 0.9850 - val_loss: 0.2012 - val_accuracy: 0.9563\n",
            "Epoch 56/200\n",
            "150/150 [==============================] - 0s 3ms/step - loss: 0.0590 - accuracy: 0.9825 - val_loss: 0.1601 - val_accuracy: 0.9675\n",
            "Epoch 57/200\n",
            "150/150 [==============================] - 0s 3ms/step - loss: 0.0482 - accuracy: 0.9848 - val_loss: 0.1811 - val_accuracy: 0.9663\n",
            "Epoch 58/200\n",
            "150/150 [==============================] - 0s 3ms/step - loss: 0.0510 - accuracy: 0.9829 - val_loss: 0.1734 - val_accuracy: 0.9619\n",
            "Epoch 59/200\n",
            "150/150 [==============================] - 0s 3ms/step - loss: 0.0431 - accuracy: 0.9858 - val_loss: 0.1887 - val_accuracy: 0.9625\n",
            "Epoch 60/200\n",
            "150/150 [==============================] - 0s 3ms/step - loss: 0.0579 - accuracy: 0.9798 - val_loss: 0.1874 - val_accuracy: 0.9613\n",
            "Epoch 61/200\n",
            "150/150 [==============================] - 1s 4ms/step - loss: 0.0470 - accuracy: 0.9833 - val_loss: 0.1815 - val_accuracy: 0.9638\n",
            "Epoch 62/200\n",
            "150/150 [==============================] - 0s 3ms/step - loss: 0.0432 - accuracy: 0.9844 - val_loss: 0.1923 - val_accuracy: 0.9594\n",
            "Epoch 63/200\n",
            "150/150 [==============================] - 1s 4ms/step - loss: 0.0426 - accuracy: 0.9871 - val_loss: 0.1914 - val_accuracy: 0.9600\n",
            "Epoch 64/200\n",
            "150/150 [==============================] - 0s 3ms/step - loss: 0.0356 - accuracy: 0.9902 - val_loss: 0.1826 - val_accuracy: 0.9594\n",
            "Epoch 65/200\n",
            "150/150 [==============================] - 0s 3ms/step - loss: 0.0403 - accuracy: 0.9881 - val_loss: 0.1891 - val_accuracy: 0.9581\n",
            "Epoch 66/200\n",
            "150/150 [==============================] - 0s 3ms/step - loss: 0.0435 - accuracy: 0.9856 - val_loss: 0.1964 - val_accuracy: 0.9631\n",
            "Epoch 67/200\n",
            "150/150 [==============================] - 0s 3ms/step - loss: 0.0550 - accuracy: 0.9817 - val_loss: 0.1767 - val_accuracy: 0.9644\n",
            "Epoch 68/200\n",
            "150/150 [==============================] - 0s 3ms/step - loss: 0.0448 - accuracy: 0.9875 - val_loss: 0.1733 - val_accuracy: 0.9669\n",
            "Epoch 69/200\n",
            "150/150 [==============================] - 0s 3ms/step - loss: 0.0518 - accuracy: 0.9825 - val_loss: 0.1802 - val_accuracy: 0.9650\n",
            "Epoch 70/200\n",
            "150/150 [==============================] - 1s 5ms/step - loss: 0.0408 - accuracy: 0.9867 - val_loss: 0.1878 - val_accuracy: 0.9613\n",
            "Epoch 71/200\n",
            "150/150 [==============================] - 1s 6ms/step - loss: 0.0474 - accuracy: 0.9850 - val_loss: 0.1914 - val_accuracy: 0.9594\n",
            "Epoch 72/200\n",
            "150/150 [==============================] - 0s 3ms/step - loss: 0.0500 - accuracy: 0.9835 - val_loss: 0.2206 - val_accuracy: 0.9581\n",
            "Epoch 73/200\n",
            "150/150 [==============================] - 1s 5ms/step - loss: 0.0444 - accuracy: 0.9862 - val_loss: 0.1982 - val_accuracy: 0.9600\n",
            "Epoch 74/200\n",
            "150/150 [==============================] - 1s 5ms/step - loss: 0.0521 - accuracy: 0.9840 - val_loss: 0.1984 - val_accuracy: 0.9619\n",
            "Epoch 75/200\n",
            "150/150 [==============================] - 1s 4ms/step - loss: 0.0439 - accuracy: 0.9842 - val_loss: 0.1786 - val_accuracy: 0.9688\n",
            "Epoch 76/200\n",
            "150/150 [==============================] - 1s 5ms/step - loss: 0.0440 - accuracy: 0.9850 - val_loss: 0.1834 - val_accuracy: 0.9606\n",
            "Epoch 77/200\n",
            "150/150 [==============================] - 0s 3ms/step - loss: 0.0463 - accuracy: 0.9835 - val_loss: 0.1970 - val_accuracy: 0.9644\n",
            "Epoch 78/200\n",
            "150/150 [==============================] - 0s 3ms/step - loss: 0.0437 - accuracy: 0.9873 - val_loss: 0.1841 - val_accuracy: 0.9631\n",
            "Epoch 79/200\n",
            "150/150 [==============================] - 0s 3ms/step - loss: 0.0364 - accuracy: 0.9877 - val_loss: 0.1880 - val_accuracy: 0.9638\n",
            "Epoch 80/200\n",
            "150/150 [==============================] - 0s 3ms/step - loss: 0.0370 - accuracy: 0.9871 - val_loss: 0.1836 - val_accuracy: 0.9663\n",
            "Epoch 81/200\n",
            "150/150 [==============================] - 0s 3ms/step - loss: 0.0337 - accuracy: 0.9902 - val_loss: 0.1843 - val_accuracy: 0.9656\n",
            "Epoch 82/200\n",
            "150/150 [==============================] - 1s 3ms/step - loss: 0.0398 - accuracy: 0.9869 - val_loss: 0.1721 - val_accuracy: 0.9663\n",
            "Epoch 83/200\n",
            "150/150 [==============================] - 0s 3ms/step - loss: 0.0319 - accuracy: 0.9883 - val_loss: 0.2072 - val_accuracy: 0.9600\n",
            "Epoch 84/200\n",
            "150/150 [==============================] - 0s 3ms/step - loss: 0.0325 - accuracy: 0.9885 - val_loss: 0.1923 - val_accuracy: 0.9638\n",
            "Epoch 85/200\n",
            "150/150 [==============================] - 0s 3ms/step - loss: 0.0360 - accuracy: 0.9877 - val_loss: 0.2084 - val_accuracy: 0.9625\n",
            "Epoch 86/200\n",
            "150/150 [==============================] - 0s 3ms/step - loss: 0.0411 - accuracy: 0.9854 - val_loss: 0.1866 - val_accuracy: 0.9625\n",
            "Epoch 87/200\n",
            "150/150 [==============================] - 0s 3ms/step - loss: 0.0332 - accuracy: 0.9869 - val_loss: 0.2041 - val_accuracy: 0.9631\n",
            "Epoch 88/200\n",
            "150/150 [==============================] - 0s 3ms/step - loss: 0.0288 - accuracy: 0.9898 - val_loss: 0.1739 - val_accuracy: 0.9663\n",
            "Epoch 89/200\n",
            "150/150 [==============================] - 0s 3ms/step - loss: 0.0334 - accuracy: 0.9887 - val_loss: 0.2206 - val_accuracy: 0.9613\n",
            "Epoch 90/200\n",
            "150/150 [==============================] - 1s 4ms/step - loss: 0.0346 - accuracy: 0.9873 - val_loss: 0.2029 - val_accuracy: 0.9575\n",
            "Epoch 91/200\n",
            "150/150 [==============================] - 0s 3ms/step - loss: 0.0375 - accuracy: 0.9873 - val_loss: 0.2291 - val_accuracy: 0.9619\n",
            "Epoch 92/200\n",
            "150/150 [==============================] - 1s 3ms/step - loss: 0.0281 - accuracy: 0.9885 - val_loss: 0.2138 - val_accuracy: 0.9631\n",
            "Epoch 93/200\n",
            "150/150 [==============================] - 0s 3ms/step - loss: 0.0278 - accuracy: 0.9906 - val_loss: 0.2039 - val_accuracy: 0.9656\n",
            "Epoch 94/200\n",
            "150/150 [==============================] - 0s 3ms/step - loss: 0.0315 - accuracy: 0.9883 - val_loss: 0.2077 - val_accuracy: 0.9600\n",
            "Epoch 95/200\n",
            "150/150 [==============================] - 0s 3ms/step - loss: 0.0270 - accuracy: 0.9910 - val_loss: 0.2366 - val_accuracy: 0.9588\n",
            "Epoch 96/200\n",
            "150/150 [==============================] - 0s 3ms/step - loss: 0.0376 - accuracy: 0.9871 - val_loss: 0.2014 - val_accuracy: 0.9638\n",
            "Epoch 97/200\n",
            "150/150 [==============================] - 0s 3ms/step - loss: 0.0346 - accuracy: 0.9892 - val_loss: 0.2084 - val_accuracy: 0.9650\n",
            "Epoch 98/200\n",
            "150/150 [==============================] - 1s 5ms/step - loss: 0.0339 - accuracy: 0.9885 - val_loss: 0.1990 - val_accuracy: 0.9625\n",
            "Epoch 99/200\n",
            "150/150 [==============================] - 1s 5ms/step - loss: 0.0352 - accuracy: 0.9862 - val_loss: 0.1982 - val_accuracy: 0.9644\n",
            "Epoch 100/200\n",
            "150/150 [==============================] - 1s 5ms/step - loss: 0.0387 - accuracy: 0.9869 - val_loss: 0.1749 - val_accuracy: 0.9656\n",
            "Epoch 101/200\n",
            "150/150 [==============================] - 1s 4ms/step - loss: 0.0374 - accuracy: 0.9890 - val_loss: 0.2080 - val_accuracy: 0.9606\n",
            "Epoch 102/200\n",
            "150/150 [==============================] - 0s 3ms/step - loss: 0.0464 - accuracy: 0.9865 - val_loss: 0.2302 - val_accuracy: 0.9588\n",
            "Epoch 103/200\n",
            "150/150 [==============================] - 0s 3ms/step - loss: 0.0375 - accuracy: 0.9885 - val_loss: 0.2071 - val_accuracy: 0.9613\n",
            "Epoch 104/200\n",
            "150/150 [==============================] - 0s 3ms/step - loss: 0.0320 - accuracy: 0.9900 - val_loss: 0.2133 - val_accuracy: 0.9600\n",
            "Epoch 105/200\n",
            "150/150 [==============================] - 1s 3ms/step - loss: 0.0324 - accuracy: 0.9900 - val_loss: 0.2158 - val_accuracy: 0.9606\n",
            "Epoch 106/200\n",
            "150/150 [==============================] - 0s 3ms/step - loss: 0.0300 - accuracy: 0.9896 - val_loss: 0.1986 - val_accuracy: 0.9656\n",
            "Epoch 107/200\n",
            "150/150 [==============================] - 0s 3ms/step - loss: 0.0360 - accuracy: 0.9912 - val_loss: 0.2142 - val_accuracy: 0.9619\n",
            "Epoch 108/200\n",
            "150/150 [==============================] - 0s 3ms/step - loss: 0.0418 - accuracy: 0.9873 - val_loss: 0.2312 - val_accuracy: 0.9606\n",
            "Epoch 109/200\n",
            "150/150 [==============================] - 1s 3ms/step - loss: 0.0302 - accuracy: 0.9904 - val_loss: 0.2216 - val_accuracy: 0.9588\n",
            "Epoch 110/200\n",
            "150/150 [==============================] - 0s 3ms/step - loss: 0.0303 - accuracy: 0.9908 - val_loss: 0.2344 - val_accuracy: 0.9563\n",
            "Epoch 111/200\n",
            "150/150 [==============================] - 0s 3ms/step - loss: 0.0332 - accuracy: 0.9892 - val_loss: 0.1994 - val_accuracy: 0.9606\n",
            "Epoch 112/200\n",
            "150/150 [==============================] - 0s 3ms/step - loss: 0.0342 - accuracy: 0.9890 - val_loss: 0.2133 - val_accuracy: 0.9613\n",
            "Epoch 113/200\n",
            "150/150 [==============================] - 0s 3ms/step - loss: 0.0296 - accuracy: 0.9898 - val_loss: 0.1935 - val_accuracy: 0.9631\n",
            "Epoch 114/200\n",
            "150/150 [==============================] - 0s 3ms/step - loss: 0.0276 - accuracy: 0.9902 - val_loss: 0.2209 - val_accuracy: 0.9606\n",
            "Epoch 115/200\n",
            "150/150 [==============================] - 0s 3ms/step - loss: 0.0254 - accuracy: 0.9921 - val_loss: 0.2199 - val_accuracy: 0.9619\n",
            "Epoch 116/200\n",
            "150/150 [==============================] - 0s 3ms/step - loss: 0.0244 - accuracy: 0.9933 - val_loss: 0.1973 - val_accuracy: 0.9669\n",
            "Epoch 117/200\n",
            "150/150 [==============================] - 0s 3ms/step - loss: 0.0223 - accuracy: 0.9925 - val_loss: 0.2027 - val_accuracy: 0.9644\n",
            "Epoch 118/200\n",
            "150/150 [==============================] - 0s 3ms/step - loss: 0.0354 - accuracy: 0.9894 - val_loss: 0.1996 - val_accuracy: 0.9631\n",
            "Epoch 119/200\n",
            "150/150 [==============================] - 1s 3ms/step - loss: 0.0327 - accuracy: 0.9912 - val_loss: 0.1966 - val_accuracy: 0.9669\n",
            "Epoch 120/200\n",
            "150/150 [==============================] - 0s 3ms/step - loss: 0.0344 - accuracy: 0.9890 - val_loss: 0.2086 - val_accuracy: 0.9638\n",
            "Epoch 121/200\n",
            "150/150 [==============================] - 0s 3ms/step - loss: 0.0344 - accuracy: 0.9881 - val_loss: 0.2404 - val_accuracy: 0.9613\n",
            "Epoch 122/200\n",
            "150/150 [==============================] - 1s 4ms/step - loss: 0.0299 - accuracy: 0.9910 - val_loss: 0.2003 - val_accuracy: 0.9712\n",
            "Epoch 123/200\n",
            "150/150 [==============================] - 1s 5ms/step - loss: 0.0283 - accuracy: 0.9902 - val_loss: 0.2149 - val_accuracy: 0.9656\n",
            "Epoch 124/200\n",
            "150/150 [==============================] - 1s 5ms/step - loss: 0.0330 - accuracy: 0.9908 - val_loss: 0.2182 - val_accuracy: 0.9669\n",
            "Epoch 125/200\n",
            "150/150 [==============================] - 1s 5ms/step - loss: 0.0370 - accuracy: 0.9881 - val_loss: 0.2069 - val_accuracy: 0.9688\n",
            "Epoch 126/200\n",
            "150/150 [==============================] - 1s 4ms/step - loss: 0.0228 - accuracy: 0.9927 - val_loss: 0.2180 - val_accuracy: 0.9625\n",
            "Epoch 127/200\n",
            "150/150 [==============================] - 0s 3ms/step - loss: 0.0166 - accuracy: 0.9944 - val_loss: 0.2147 - val_accuracy: 0.9656\n",
            "Epoch 128/200\n",
            "150/150 [==============================] - 0s 3ms/step - loss: 0.0174 - accuracy: 0.9940 - val_loss: 0.2000 - val_accuracy: 0.9688\n",
            "Epoch 129/200\n",
            "150/150 [==============================] - 0s 3ms/step - loss: 0.0237 - accuracy: 0.9919 - val_loss: 0.2170 - val_accuracy: 0.9656\n",
            "Epoch 130/200\n",
            "150/150 [==============================] - 1s 4ms/step - loss: 0.0381 - accuracy: 0.9887 - val_loss: 0.1884 - val_accuracy: 0.9700\n",
            "Epoch 131/200\n",
            "150/150 [==============================] - 0s 3ms/step - loss: 0.0379 - accuracy: 0.9890 - val_loss: 0.2059 - val_accuracy: 0.9681\n",
            "Epoch 132/200\n",
            "150/150 [==============================] - 0s 3ms/step - loss: 0.0268 - accuracy: 0.9904 - val_loss: 0.2192 - val_accuracy: 0.9644\n",
            "Epoch 133/200\n",
            "150/150 [==============================] - 0s 3ms/step - loss: 0.0201 - accuracy: 0.9940 - val_loss: 0.2154 - val_accuracy: 0.9625\n",
            "Epoch 134/200\n",
            "150/150 [==============================] - 0s 3ms/step - loss: 0.0300 - accuracy: 0.9912 - val_loss: 0.2329 - val_accuracy: 0.9613\n",
            "Epoch 135/200\n",
            "150/150 [==============================] - 0s 3ms/step - loss: 0.0329 - accuracy: 0.9890 - val_loss: 0.2213 - val_accuracy: 0.9606\n",
            "Epoch 136/200\n",
            "150/150 [==============================] - 1s 4ms/step - loss: 0.0245 - accuracy: 0.9906 - val_loss: 0.1944 - val_accuracy: 0.9656\n",
            "Epoch 137/200\n",
            "150/150 [==============================] - 1s 3ms/step - loss: 0.0214 - accuracy: 0.9921 - val_loss: 0.2259 - val_accuracy: 0.9656\n",
            "Epoch 138/200\n",
            "150/150 [==============================] - 1s 3ms/step - loss: 0.0219 - accuracy: 0.9921 - val_loss: 0.2063 - val_accuracy: 0.9650\n",
            "Epoch 139/200\n",
            "150/150 [==============================] - 0s 3ms/step - loss: 0.0270 - accuracy: 0.9900 - val_loss: 0.1965 - val_accuracy: 0.9650\n",
            "Epoch 140/200\n",
            "150/150 [==============================] - 0s 3ms/step - loss: 0.0245 - accuracy: 0.9921 - val_loss: 0.1889 - val_accuracy: 0.9688\n",
            "Epoch 141/200\n",
            "150/150 [==============================] - 0s 3ms/step - loss: 0.0236 - accuracy: 0.9919 - val_loss: 0.2071 - val_accuracy: 0.9688\n",
            "Epoch 142/200\n",
            "150/150 [==============================] - 1s 4ms/step - loss: 0.0349 - accuracy: 0.9890 - val_loss: 0.1940 - val_accuracy: 0.9700\n",
            "Epoch 143/200\n",
            "150/150 [==============================] - 1s 4ms/step - loss: 0.0309 - accuracy: 0.9881 - val_loss: 0.2096 - val_accuracy: 0.9644\n",
            "Epoch 144/200\n",
            "150/150 [==============================] - 1s 3ms/step - loss: 0.0227 - accuracy: 0.9935 - val_loss: 0.2209 - val_accuracy: 0.9650\n",
            "Epoch 145/200\n",
            "150/150 [==============================] - 1s 3ms/step - loss: 0.0428 - accuracy: 0.9869 - val_loss: 0.2054 - val_accuracy: 0.9669\n",
            "Epoch 146/200\n",
            "150/150 [==============================] - 1s 4ms/step - loss: 0.0260 - accuracy: 0.9912 - val_loss: 0.2266 - val_accuracy: 0.9650\n",
            "Epoch 147/200\n",
            "150/150 [==============================] - 1s 5ms/step - loss: 0.0264 - accuracy: 0.9921 - val_loss: 0.2176 - val_accuracy: 0.9625\n",
            "Epoch 148/200\n",
            "150/150 [==============================] - 1s 5ms/step - loss: 0.0251 - accuracy: 0.9919 - val_loss: 0.2167 - val_accuracy: 0.9650\n",
            "Epoch 149/200\n",
            "150/150 [==============================] - 1s 5ms/step - loss: 0.0223 - accuracy: 0.9921 - val_loss: 0.2015 - val_accuracy: 0.9650\n",
            "Epoch 150/200\n",
            "150/150 [==============================] - 0s 3ms/step - loss: 0.0248 - accuracy: 0.9919 - val_loss: 0.2024 - val_accuracy: 0.9644\n",
            "Epoch 151/200\n",
            "150/150 [==============================] - 0s 3ms/step - loss: 0.0325 - accuracy: 0.9879 - val_loss: 0.2124 - val_accuracy: 0.9619\n",
            "Epoch 152/200\n",
            "150/150 [==============================] - 1s 4ms/step - loss: 0.0241 - accuracy: 0.9925 - val_loss: 0.2017 - val_accuracy: 0.9650\n",
            "Epoch 153/200\n",
            "150/150 [==============================] - 1s 3ms/step - loss: 0.0255 - accuracy: 0.9912 - val_loss: 0.2046 - val_accuracy: 0.9675\n",
            "Epoch 154/200\n",
            "150/150 [==============================] - 1s 3ms/step - loss: 0.0259 - accuracy: 0.9915 - val_loss: 0.1940 - val_accuracy: 0.9694\n",
            "Epoch 155/200\n",
            "150/150 [==============================] - 1s 3ms/step - loss: 0.0256 - accuracy: 0.9904 - val_loss: 0.1944 - val_accuracy: 0.9681\n",
            "Epoch 156/200\n",
            "150/150 [==============================] - 0s 3ms/step - loss: 0.0209 - accuracy: 0.9944 - val_loss: 0.1910 - val_accuracy: 0.9638\n",
            "Epoch 157/200\n",
            "150/150 [==============================] - 1s 3ms/step - loss: 0.0306 - accuracy: 0.9904 - val_loss: 0.2145 - val_accuracy: 0.9619\n",
            "Epoch 158/200\n",
            "150/150 [==============================] - 1s 4ms/step - loss: 0.0242 - accuracy: 0.9925 - val_loss: 0.1960 - val_accuracy: 0.9681\n",
            "Epoch 159/200\n",
            "150/150 [==============================] - 0s 3ms/step - loss: 0.0186 - accuracy: 0.9929 - val_loss: 0.2154 - val_accuracy: 0.9631\n",
            "Epoch 160/200\n",
            "150/150 [==============================] - 1s 3ms/step - loss: 0.0209 - accuracy: 0.9925 - val_loss: 0.2122 - val_accuracy: 0.9650\n",
            "Epoch 161/200\n",
            "150/150 [==============================] - 0s 3ms/step - loss: 0.0226 - accuracy: 0.9931 - val_loss: 0.2089 - val_accuracy: 0.9688\n",
            "Epoch 162/200\n",
            "150/150 [==============================] - 0s 3ms/step - loss: 0.0223 - accuracy: 0.9933 - val_loss: 0.2096 - val_accuracy: 0.9644\n",
            "Epoch 163/200\n",
            "150/150 [==============================] - 0s 3ms/step - loss: 0.0233 - accuracy: 0.9933 - val_loss: 0.2432 - val_accuracy: 0.9638\n",
            "Epoch 164/200\n",
            "150/150 [==============================] - 1s 4ms/step - loss: 0.0344 - accuracy: 0.9898 - val_loss: 0.2010 - val_accuracy: 0.9688\n",
            "Epoch 165/200\n",
            "150/150 [==============================] - 0s 3ms/step - loss: 0.0240 - accuracy: 0.9908 - val_loss: 0.2080 - val_accuracy: 0.9663\n",
            "Epoch 166/200\n",
            "150/150 [==============================] - 1s 4ms/step - loss: 0.0214 - accuracy: 0.9937 - val_loss: 0.2121 - val_accuracy: 0.9656\n",
            "Epoch 167/200\n",
            "150/150 [==============================] - 1s 3ms/step - loss: 0.0219 - accuracy: 0.9921 - val_loss: 0.2268 - val_accuracy: 0.9681\n",
            "Epoch 168/200\n",
            "150/150 [==============================] - 0s 3ms/step - loss: 0.0270 - accuracy: 0.9927 - val_loss: 0.2125 - val_accuracy: 0.9663\n",
            "Epoch 169/200\n",
            "150/150 [==============================] - 1s 4ms/step - loss: 0.0232 - accuracy: 0.9912 - val_loss: 0.2123 - val_accuracy: 0.9625\n",
            "Epoch 170/200\n",
            "150/150 [==============================] - 1s 5ms/step - loss: 0.0198 - accuracy: 0.9940 - val_loss: 0.2393 - val_accuracy: 0.9606\n",
            "Epoch 171/200\n",
            "150/150 [==============================] - 1s 4ms/step - loss: 0.0195 - accuracy: 0.9946 - val_loss: 0.2197 - val_accuracy: 0.9656\n",
            "Epoch 172/200\n",
            "150/150 [==============================] - 1s 5ms/step - loss: 0.0235 - accuracy: 0.9927 - val_loss: 0.2156 - val_accuracy: 0.9619\n",
            "Epoch 173/200\n",
            "150/150 [==============================] - 1s 4ms/step - loss: 0.0159 - accuracy: 0.9942 - val_loss: 0.2044 - val_accuracy: 0.9663\n",
            "Epoch 174/200\n",
            "150/150 [==============================] - 0s 3ms/step - loss: 0.0157 - accuracy: 0.9942 - val_loss: 0.2042 - val_accuracy: 0.9656\n",
            "Epoch 175/200\n",
            "150/150 [==============================] - 0s 3ms/step - loss: 0.0221 - accuracy: 0.9935 - val_loss: 0.2297 - val_accuracy: 0.9631\n",
            "Epoch 176/200\n",
            "150/150 [==============================] - 0s 3ms/step - loss: 0.0294 - accuracy: 0.9902 - val_loss: 0.2094 - val_accuracy: 0.9638\n",
            "Epoch 177/200\n",
            "150/150 [==============================] - 1s 3ms/step - loss: 0.0278 - accuracy: 0.9923 - val_loss: 0.1982 - val_accuracy: 0.9712\n",
            "Epoch 178/200\n",
            "150/150 [==============================] - 0s 3ms/step - loss: 0.0218 - accuracy: 0.9929 - val_loss: 0.2157 - val_accuracy: 0.9669\n",
            "Epoch 179/200\n",
            "150/150 [==============================] - 1s 4ms/step - loss: 0.0245 - accuracy: 0.9921 - val_loss: 0.2041 - val_accuracy: 0.9663\n",
            "Epoch 180/200\n",
            "150/150 [==============================] - 1s 3ms/step - loss: 0.0238 - accuracy: 0.9923 - val_loss: 0.2159 - val_accuracy: 0.9644\n",
            "Epoch 181/200\n",
            "150/150 [==============================] - 0s 3ms/step - loss: 0.0248 - accuracy: 0.9929 - val_loss: 0.1890 - val_accuracy: 0.9706\n",
            "Epoch 182/200\n",
            "150/150 [==============================] - 0s 3ms/step - loss: 0.0204 - accuracy: 0.9927 - val_loss: 0.2210 - val_accuracy: 0.9631\n",
            "Epoch 183/200\n",
            "150/150 [==============================] - 1s 3ms/step - loss: 0.0269 - accuracy: 0.9908 - val_loss: 0.2381 - val_accuracy: 0.9625\n",
            "Epoch 184/200\n",
            "150/150 [==============================] - 0s 3ms/step - loss: 0.0217 - accuracy: 0.9929 - val_loss: 0.2371 - val_accuracy: 0.9669\n",
            "Epoch 185/200\n",
            "150/150 [==============================] - 1s 4ms/step - loss: 0.0270 - accuracy: 0.9917 - val_loss: 0.2025 - val_accuracy: 0.9638\n",
            "Epoch 186/200\n",
            "150/150 [==============================] - 1s 4ms/step - loss: 0.0193 - accuracy: 0.9933 - val_loss: 0.2058 - val_accuracy: 0.9644\n",
            "Epoch 187/200\n",
            "150/150 [==============================] - 1s 3ms/step - loss: 0.0188 - accuracy: 0.9925 - val_loss: 0.2014 - val_accuracy: 0.9625\n",
            "Epoch 188/200\n",
            "150/150 [==============================] - 0s 3ms/step - loss: 0.0199 - accuracy: 0.9931 - val_loss: 0.2215 - val_accuracy: 0.9631\n",
            "Epoch 189/200\n",
            "150/150 [==============================] - 1s 4ms/step - loss: 0.0226 - accuracy: 0.9921 - val_loss: 0.2364 - val_accuracy: 0.9606\n",
            "Epoch 190/200\n",
            "150/150 [==============================] - 1s 3ms/step - loss: 0.0192 - accuracy: 0.9933 - val_loss: 0.2476 - val_accuracy: 0.9606\n",
            "Epoch 191/200\n",
            "150/150 [==============================] - 0s 3ms/step - loss: 0.0268 - accuracy: 0.9925 - val_loss: 0.2573 - val_accuracy: 0.9606\n",
            "Epoch 192/200\n",
            "150/150 [==============================] - 1s 4ms/step - loss: 0.0184 - accuracy: 0.9946 - val_loss: 0.2328 - val_accuracy: 0.9650\n",
            "Epoch 193/200\n",
            "150/150 [==============================] - 1s 4ms/step - loss: 0.0200 - accuracy: 0.9944 - val_loss: 0.2421 - val_accuracy: 0.9613\n",
            "Epoch 194/200\n",
            "150/150 [==============================] - 1s 5ms/step - loss: 0.0180 - accuracy: 0.9940 - val_loss: 0.2361 - val_accuracy: 0.9625\n",
            "Epoch 195/200\n",
            "150/150 [==============================] - 1s 4ms/step - loss: 0.0166 - accuracy: 0.9954 - val_loss: 0.2362 - val_accuracy: 0.9656\n",
            "Epoch 196/200\n",
            "150/150 [==============================] - 1s 5ms/step - loss: 0.0200 - accuracy: 0.9929 - val_loss: 0.2283 - val_accuracy: 0.9681\n",
            "Epoch 197/200\n",
            "150/150 [==============================] - 1s 4ms/step - loss: 0.0163 - accuracy: 0.9944 - val_loss: 0.2194 - val_accuracy: 0.9675\n",
            "Epoch 198/200\n",
            "150/150 [==============================] - 0s 3ms/step - loss: 0.0183 - accuracy: 0.9931 - val_loss: 0.2276 - val_accuracy: 0.9675\n",
            "Epoch 199/200\n",
            "150/150 [==============================] - 1s 4ms/step - loss: 0.0205 - accuracy: 0.9921 - val_loss: 0.2398 - val_accuracy: 0.9613\n",
            "Epoch 200/200\n",
            "150/150 [==============================] - 0s 3ms/step - loss: 0.0232 - accuracy: 0.9917 - val_loss: 0.2289 - val_accuracy: 0.9619\n"
          ]
        }
      ],
      "source": [
        "checkpoint_callback = tf.keras.callbacks.ModelCheckpoint(\n",
        "    filepath='/content/models/model_checkpoint_epoch_{epoch:02d}.h5',\n",
        "    save_best_only=False,\n",
        "    save_weights_only=False,\n",
        "    verbose=0\n",
        ")\n",
        "\n",
        "history = model.fit(\n",
        "    train_images,\n",
        "    train_labels,\n",
        "    epochs=200,\n",
        "    validation_data=(eval_images, eval_labels),\n",
        "    callbacks=[checkpoint_callback]\n",
        ")"
      ]
    },
    {
      "cell_type": "markdown",
      "metadata": {
        "id": "Rqw5odlnUM6K"
      },
      "source": [
        "# Plot The Loss"
      ]
    },
    {
      "cell_type": "code",
      "execution_count": null,
      "metadata": {
        "colab": {
          "base_uri": "https://localhost:8080/",
          "height": 449
        },
        "id": "ER6glXlnLOC7",
        "outputId": "1f5d1f1e-316b-474e-a087-f019d6a39c3b"
      },
      "outputs": [
        {
          "output_type": "display_data",
          "data": {
            "text/plain": [
              "<Figure size 640x480 with 1 Axes>"
            ],
            "image/png": "[encoded data removed]"
          },
          "metadata": {}
        }
      ],
      "source": [
        "plt.plot(history.history['loss'], label='loss')\n",
        "plt.plot(history.history['val_loss'], label='val_loss')\n",
        "plt.xlabel('Epochs')\n",
        "plt.ylabel('Loss')\n",
        "plt.legend()\n",
        "plt.show()"
      ]
    },
    {
      "cell_type": "markdown",
      "metadata": {
        "id": "rq9kcs5qUPSV"
      },
      "source": [
        "# Plot The Accuracy"
      ]
    },
    {
      "cell_type": "code",
      "execution_count": null,
      "metadata": {
        "colab": {
          "base_uri": "https://localhost:8080/",
          "height": 449
        },
        "id": "d7F3q2xGLoD9",
        "outputId": "7da8bc30-379b-4954-e41f-66e6aa10449c"
      },
      "outputs": [
        {
          "output_type": "display_data",
          "data": {
            "text/plain": [
              "<Figure size 640x480 with 1 Axes>"
            ],
            "image/png": "[encoded data removed]"
          },
          "metadata": {}
        }
      ],
      "source": [
        "plt.plot(history.history['accuracy'], label='accuracy')\n",
        "plt.plot(history.history['val_accuracy'], label='val_accuracy')\n",
        "plt.xlabel('Epochs')\n",
        "plt.ylabel('Accuracy')\n",
        "plt.legend()\n",
        "plt.show()"
      ]
    },
    {
      "cell_type": "markdown",
      "metadata": {
        "id": "5CNoBnVjdFb-"
      },
      "source": [
        "# Choosing The Best Model"
      ]
    },
    {
      "cell_type": "code",
      "execution_count": null,
      "metadata": {
        "id": "u8_QCxnZMZ6f"
      },
      "outputs": [],
      "source": [
        "epoch_to_load = 49\n",
        "best_model = tf.keras.models.load_model(f'/content/models/model_checkpoint_epoch_{epoch_to_load:02d}.h5')"
      ]
    },
    {
      "cell_type": "markdown",
      "metadata": {
        "id": "yh8PdMezdPSX"
      },
      "source": [
        "# Testing The Model On The Test Set"
      ]
    },
    {
      "cell_type": "code",
      "execution_count": null,
      "metadata": {
        "colab": {
          "base_uri": "https://localhost:8080/"
        },
        "id": "_t7__pc4SzXm",
        "outputId": "1a4bd8fc-8d2b-4f50-ccc2-7c528b897f88"
      },
      "outputs": [
        {
          "output_type": "stream",
          "name": "stdout",
          "text": [
            "50/50 [==============================] - 0s 2ms/step - loss: 0.1756 - accuracy: 0.9631\n",
            "Test Loss: 0.17560197412967682\n",
            "Test Accuracy: 0.9631249904632568\n"
          ]
        }
      ],
      "source": [
        "test_loss, test_acc = best_model.evaluate(test_images, test_labels)\n",
        "print(f'Test Loss: {test_loss}')\n",
        "print(f'Test Accuracy: {test_acc}')"
      ]
    },
    {
      "cell_type": "code",
      "execution_count": null,
      "metadata": {
        "colab": {
          "base_uri": "https://localhost:8080/",
          "height": 482
        },
        "id": "UbOInBVmS0W-",
        "outputId": "40199d9c-6d2f-4275-f4b4-fc0ec074e223"
      },
      "outputs": [
        {
          "output_type": "display_data",
          "data": {
            "text/plain": [
              "<Figure size 640x480 with 1 Axes>"
            ],
            "image/png": "[encoded data removed]"
          },
          "metadata": {}
        },
        {
          "output_type": "stream",
          "name": "stdout",
          "text": [
            "1/1 [==============================] - 0s 130ms/step\n",
            "Predicted Label: 2\n",
            "Actual Label: 2\n"
          ]
        }
      ],
      "source": [
        "random_index = np.random.randint(0, test_images.shape[0])\n",
        "random_image = test_images[random_index]\n",
        "random_label = test_labels[random_index][0]\n",
        "\n",
        "plt.imshow(random_image.reshape(28, 28) * 255, cmap='gray')\n",
        "plt.show()\n",
        "\n",
        "random_image = random_image.reshape(1, 784)\n",
        "prediction = best_model.predict(random_image)\n",
        "print(f'Predicted Label: {np.argmax(prediction)}')\n",
        "print(f'Actual Label: {random_label}')"
      ]
    },
    {
      "cell_type": "markdown",
      "metadata": {
        "id": "DlnlVDO1a8Qp"
      },
      "source": [
        "# Save The Model"
      ]
    },
    {
      "cell_type": "code",
      "execution_count": null,
      "metadata": {
        "id": "p8G0U5SMaX2X"
      },
      "outputs": [],
      "source": [
        "best_model.save('/content/kamel_model.h5')\n",
        "!rm -rf '/content/models/'"
      ]
    },
    {
      "cell_type": "markdown",
      "metadata": {
        "id": "uBUD9ZfAb7Iw"
      },
      "source": [
        "# Model API"
      ]
    },
    {
      "cell_type": "code",
      "execution_count": null,
      "metadata": {
        "colab": {
          "base_uri": "https://localhost:8080/",
          "height": 534
        },
        "id": "AS3RyD11b6jL",
        "outputId": "bdb33d62-f34b-4e69-a62e-765f121719a0"
      },
      "outputs": [
        {
          "output_type": "stream",
          "name": "stdout",
          "text": [
            "50/50 [==============================] - 0s 2ms/step - loss: 0.2757 - accuracy: 0.9481\n",
            "Test Loss: 0.27574318647384644\n",
            "Test Accuracy: 0.9481250047683716\n"
          ]
        },
        {
          "output_type": "display_data",
          "data": {
            "text/plain": [
              "<Figure size 640x480 with 1 Axes>"
            ],
            "image/png": "[encoded data removed]"
          },
          "metadata": {}
        },
        {
          "output_type": "stream",
          "name": "stdout",
          "text": [
            "1/1 [==============================] - 0s 126ms/step\n",
            "Predicted Label: 3\n",
            "Actual Label: 3\n"
          ]
        }
      ],
      "source": [
        "# test_images = (m, 784)  numpy array   (flatten the image)\n",
        "# test_labels = (m, 1)    numpy array\n",
        "model_dir = '/content/kamel_model.h5' # model directory\n",
        "\n",
        "if model is None:\n",
        "  print('Model not found.')\n",
        "\n",
        "else:\n",
        "  test_loss, test_acc = model.evaluate(test_images, test_labels)\n",
        "  print(f'Test Loss: {test_loss}')\n",
        "  print(f'Test Accuracy: {test_acc}')\n",
        "\n",
        "  random_index = np.random.randint(0, test_images.shape[0])\n",
        "  random_image = test_images[random_index]\n",
        "  random_label = test_labels[random_index][0]\n",
        "\n",
        "  plt.imshow(random_image.reshape(28, 28) * 255, cmap='gray')\n",
        "  plt.show()\n",
        "\n",
        "  random_image = random_image.reshape(1, 784)\n",
        "  prediction = model.predict(random_image)\n",
        "  print(f'Predicted Label: {np.argmax(prediction)}')\n",
        "  print(f'Actual Label: {random_label}')"
      ]
    }
  ],
  "metadata": {
    "colab": {
      "provenance": []
    },
    "kernelspec": {
      "display_name": "Python 3",
      "name": "python3"
    },
    "language_info": {
      "name": "python"
    }
  },
  "nbformat": 4,
  "nbformat_minor": 0
}